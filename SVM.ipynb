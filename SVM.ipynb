{
 "cells": [
  {
   "cell_type": "code",
   "execution_count": 1,
   "id": "d044025a",
   "metadata": {},
   "outputs": [],
   "source": [
    "import numpy as np\n",
    "import cv2\n",
    "from sklearn.mixture import GaussianMixture\n",
    "from matplotlib import pyplot\n",
    "from sklearn.model_selection import train_test_split\n",
    "from sklearn.svm import SVC"
   ]
  },
  {
   "cell_type": "markdown",
   "id": "a3c03de6",
   "metadata": {},
   "source": [
    "# 1. Load Accelerometer Data \n",
    "##  Dataset is a vector of 151 accelerometer values for each axis. "
   ]
  },
  {
   "cell_type": "code",
   "execution_count": 2,
   "id": "0a46fd29",
   "metadata": {},
   "outputs": [],
   "source": [
    "data =np.load(\"dataset/acc_data.npy\")"
   ]
  },
  {
   "cell_type": "code",
   "execution_count": 3,
   "id": "451fb630",
   "metadata": {},
   "outputs": [],
   "source": [
    "x_axis_data = data[:,:151]"
   ]
  },
  {
   "cell_type": "code",
   "execution_count": 4,
   "id": "590ea5b3",
   "metadata": {},
   "outputs": [
    {
     "data": {
      "text/plain": [
       "(11771, 151)"
      ]
     },
     "execution_count": 4,
     "metadata": {},
     "output_type": "execute_result"
    }
   ],
   "source": [
    "x_axis_data.shape"
   ]
  },
  {
   "cell_type": "code",
   "execution_count": 5,
   "id": "990baff2",
   "metadata": {},
   "outputs": [],
   "source": [
    "y_axis_data = data[:,151:302]"
   ]
  },
  {
   "cell_type": "code",
   "execution_count": 6,
   "id": "61e2d493",
   "metadata": {},
   "outputs": [
    {
     "data": {
      "text/plain": [
       "(11771, 151)"
      ]
     },
     "execution_count": 6,
     "metadata": {},
     "output_type": "execute_result"
    }
   ],
   "source": [
    "y_axis_data.shape"
   ]
  },
  {
   "cell_type": "code",
   "execution_count": 7,
   "id": "6952316d",
   "metadata": {},
   "outputs": [],
   "source": [
    "z_axis_data = data[:,302:453]"
   ]
  },
  {
   "cell_type": "code",
   "execution_count": 8,
   "id": "3ba2c518",
   "metadata": {},
   "outputs": [
    {
     "data": {
      "text/plain": [
       "(11771, 151)"
      ]
     },
     "execution_count": 8,
     "metadata": {},
     "output_type": "execute_result"
    }
   ],
   "source": [
    "z_axis_data.shape"
   ]
  },
  {
   "cell_type": "markdown",
   "id": "9fb0fb0f",
   "metadata": {},
   "source": [
    "## Data labels contain 3 columns, we use only first column to classify human activities"
   ]
  },
  {
   "cell_type": "code",
   "execution_count": 9,
   "id": "322f849d",
   "metadata": {},
   "outputs": [],
   "source": [
    "Label =np.load(\"dataset/acc_labels.npy\")"
   ]
  },
  {
   "cell_type": "code",
   "execution_count": 10,
   "id": "bc021ed4",
   "metadata": {},
   "outputs": [],
   "source": [
    "hum_act_labels = Label[:,0]"
   ]
  },
  {
   "cell_type": "code",
   "execution_count": 11,
   "id": "247d0d82",
   "metadata": {},
   "outputs": [],
   "source": [
    "hum_act_labels = np.vstack(hum_act_labels)"
   ]
  },
  {
   "cell_type": "code",
   "execution_count": 12,
   "id": "8789d5d3",
   "metadata": {},
   "outputs": [
    {
     "data": {
      "text/plain": [
       "(11771, 1)"
      ]
     },
     "execution_count": 12,
     "metadata": {},
     "output_type": "execute_result"
    }
   ],
   "source": [
    "hum_act_labels.shape"
   ]
  },
  {
   "cell_type": "code",
   "execution_count": 13,
   "id": "05d72f5c",
   "metadata": {},
   "outputs": [
    {
     "data": {
      "text/plain": [
       "array([[ 1],\n",
       "       [ 1],\n",
       "       [ 1],\n",
       "       ...,\n",
       "       [17],\n",
       "       [17],\n",
       "       [17]], dtype=uint8)"
      ]
     },
     "execution_count": 13,
     "metadata": {},
     "output_type": "execute_result"
    }
   ],
   "source": [
    "hum_act_labels"
   ]
  },
  {
   "cell_type": "markdown",
   "id": "6a099578",
   "metadata": {},
   "source": [
    "## Class names"
   ]
  },
  {
   "cell_type": "code",
   "execution_count": 14,
   "id": "a9011b13",
   "metadata": {},
   "outputs": [],
   "source": [
    "names =np.load(\"dataset/acc_names.npy\",allow_pickle=True)"
   ]
  },
  {
   "cell_type": "code",
   "execution_count": 15,
   "id": "809219ef",
   "metadata": {},
   "outputs": [
    {
     "data": {
      "text/plain": [
       "array([[array(['Standing up from sitting'], dtype='<U24'),\n",
       "        array(['Standing up from laying'], dtype='<U23'),\n",
       "        array(['Walking'], dtype='<U7'), array(['Running'], dtype='<U7'),\n",
       "        array(['Going upstairs'], dtype='<U14'),\n",
       "        array(['Jumping'], dtype='<U7'),\n",
       "        array(['Going downstairs'], dtype='<U16'),\n",
       "        array(['Lying down from standing'], dtype='<U24'),\n",
       "        array(['Sitting down'], dtype='<U12'),\n",
       "        array(['Generic falling forward'], dtype='<U23'),\n",
       "        array(['Falling rightward'], dtype='<U17'),\n",
       "        array(['Generic falling backward'], dtype='<U24'),\n",
       "        array(['Hitting an obstacle in the fall'], dtype='<U31'),\n",
       "        array(['Falling with protection strategies'], dtype='<U34'),\n",
       "        array(['Falling backward-sitting-chair'], dtype='<U30'),\n",
       "        array(['Syncope'], dtype='<U7'),\n",
       "        array(['Falling leftward'], dtype='<U16')],\n",
       "       [array(['StandingUpFS'], dtype='<U12'),\n",
       "        array(['StandingUpFL'], dtype='<U12'),\n",
       "        array(['Walking'], dtype='<U7'), array(['Running'], dtype='<U7'),\n",
       "        array(['GoingUpS'], dtype='<U8'),\n",
       "        array(['Jumping'], dtype='<U7'),\n",
       "        array(['GoingDownS'], dtype='<U10'),\n",
       "        array(['LyingDownFS'], dtype='<U11'),\n",
       "        array(['SittingDown'], dtype='<U11'),\n",
       "        array(['FallingForw'], dtype='<U11'),\n",
       "        array(['FallingRight'], dtype='<U12'),\n",
       "        array(['FallingBack'], dtype='<U11'),\n",
       "        array(['HittingObstacle'], dtype='<U15'),\n",
       "        array(['FallingWithPS'], dtype='<U13'),\n",
       "        array(['FallingBackSC'], dtype='<U13'),\n",
       "        array(['Syncope'], dtype='<U7'),\n",
       "        array(['FallingLeft'], dtype='<U11')]], dtype=object)"
      ]
     },
     "execution_count": 15,
     "metadata": {},
     "output_type": "execute_result"
    }
   ],
   "source": [
    "names"
   ]
  },
  {
   "cell_type": "code",
   "execution_count": 16,
   "id": "0bc12de3",
   "metadata": {},
   "outputs": [
    {
     "data": {
      "text/plain": [
       "(2, 17)"
      ]
     },
     "execution_count": 16,
     "metadata": {},
     "output_type": "execute_result"
    }
   ],
   "source": [
    "names.shape"
   ]
  },
  {
   "cell_type": "code",
   "execution_count": 17,
   "id": "6a3885a9",
   "metadata": {},
   "outputs": [],
   "source": [
    "class_names = names[0:1,:]"
   ]
  },
  {
   "cell_type": "code",
   "execution_count": 18,
   "id": "547b2cbb",
   "metadata": {},
   "outputs": [
    {
     "data": {
      "text/plain": [
       "array([[array(['Standing up from sitting'], dtype='<U24'),\n",
       "        array(['Standing up from laying'], dtype='<U23'),\n",
       "        array(['Walking'], dtype='<U7'), array(['Running'], dtype='<U7'),\n",
       "        array(['Going upstairs'], dtype='<U14'),\n",
       "        array(['Jumping'], dtype='<U7'),\n",
       "        array(['Going downstairs'], dtype='<U16'),\n",
       "        array(['Lying down from standing'], dtype='<U24'),\n",
       "        array(['Sitting down'], dtype='<U12'),\n",
       "        array(['Generic falling forward'], dtype='<U23'),\n",
       "        array(['Falling rightward'], dtype='<U17'),\n",
       "        array(['Generic falling backward'], dtype='<U24'),\n",
       "        array(['Hitting an obstacle in the fall'], dtype='<U31'),\n",
       "        array(['Falling with protection strategies'], dtype='<U34'),\n",
       "        array(['Falling backward-sitting-chair'], dtype='<U30'),\n",
       "        array(['Syncope'], dtype='<U7'),\n",
       "        array(['Falling leftward'], dtype='<U16')]], dtype=object)"
      ]
     },
     "execution_count": 18,
     "metadata": {},
     "output_type": "execute_result"
    }
   ],
   "source": [
    "class_names"
   ]
  },
  {
   "cell_type": "code",
   "execution_count": 19,
   "id": "6defb006",
   "metadata": {},
   "outputs": [
    {
     "data": {
      "text/plain": [
       "(1, 17)"
      ]
     },
     "execution_count": 19,
     "metadata": {},
     "output_type": "execute_result"
    }
   ],
   "source": [
    "class_names.shape"
   ]
  },
  {
   "cell_type": "code",
   "execution_count": 20,
   "id": "08e99e23",
   "metadata": {},
   "outputs": [
    {
     "name": "stdout",
     "output_type": "stream",
     "text": [
      "Labels for training and testing data\n",
      "9416\n",
      "2355\n"
     ]
    }
   ],
   "source": [
    "train_data, test_data, train_labels, test_labels = train_test_split(data,hum_act_labels, \n",
    "                                                    train_size=0.8,\n",
    "                                                    test_size=0.2,\n",
    "                                                    random_state=0)\n",
    "print(\"Labels for training and testing data\")\n",
    "print(len(train_data))\n",
    "print(len(test_data))"
   ]
  },
  {
   "cell_type": "code",
   "execution_count": 21,
   "id": "ee06b9b2",
   "metadata": {},
   "outputs": [
    {
     "name": "stdout",
     "output_type": "stream",
     "text": [
      "9416\n",
      "2355\n"
     ]
    }
   ],
   "source": [
    "print(len(train_labels))\n",
    "print(len(test_labels))"
   ]
  },
  {
   "cell_type": "code",
   "execution_count": 22,
   "id": "4a04dcab",
   "metadata": {},
   "outputs": [
    {
     "name": "stdout",
     "output_type": "stream",
     "text": [
      "[ 1  2  3  4  5  6  7  8  9 10 11 12 13 14 15 16 17]\n"
     ]
    }
   ],
   "source": [
    "labels = np.unique(train_labels)\n",
    "print(labels) "
   ]
  },
  {
   "cell_type": "code",
   "execution_count": 23,
   "id": "da850e25",
   "metadata": {},
   "outputs": [],
   "source": [
    "model = SVC(kernel='linear')"
   ]
  },
  {
   "cell_type": "code",
   "execution_count": null,
   "id": "751561ad",
   "metadata": {},
   "outputs": [
    {
     "name": "stderr",
     "output_type": "stream",
     "text": [
      "C:\\Users\\Sheeza\\anaconda3\\lib\\site-packages\\sklearn\\utils\\validation.py:63: DataConversionWarning: A column-vector y was passed when a 1d array was expected. Please change the shape of y to (n_samples, ), for example using ravel().\n",
      "  return f(*args, **kwargs)\n"
     ]
    }
   ],
   "source": [
    "model.fit(train_data, train_labels)"
   ]
  },
  {
   "cell_type": "code",
   "execution_count": null,
   "id": "205319b1",
   "metadata": {},
   "outputs": [],
   "source": [
    "predictionstrain = model.predict(train_data)\n",
    "print(predictionstrain)\n",
    "print(train_labels)"
   ]
  },
  {
   "cell_type": "code",
   "execution_count": null,
   "id": "dda14921",
   "metadata": {},
   "outputs": [],
   "source": [
    "percentage_train = model.score(train_data, train_labels)"
   ]
  },
  {
   "cell_type": "code",
   "execution_count": null,
   "id": "ba8badd9",
   "metadata": {},
   "outputs": [],
   "source": [
    "predictionstest = model.predict(test_data)\n",
    "print(predictionstest)\n",
    "print(test_labels)"
   ]
  },
  {
   "cell_type": "code",
   "execution_count": null,
   "id": "229b77f6",
   "metadata": {},
   "outputs": [],
   "source": [
    "percentage_test = model.score(test_data, test_labels)"
   ]
  },
  {
   "cell_type": "code",
   "execution_count": null,
   "id": "5dc896de",
   "metadata": {},
   "outputs": [],
   "source": [
    "from sklearn.metrics import confusion_matrix\n",
    "res = confusion_matrix(test_labels, predictionstest)\n",
    "print(\"Confusion Matrix\")\n",
    "print(res)\n",
    "print(f\"Test Set: {len(test_data)}\")\n",
    "print(f\"Training Accuracy = {percentage_train*100} %\")\n",
    "print(f\"Testing Accuracy = {percentage_test*100} %\")"
   ]
  },
  {
   "cell_type": "code",
   "execution_count": null,
   "id": "fc1bd225",
   "metadata": {},
   "outputs": [],
   "source": []
  }
 ],
 "metadata": {
  "kernelspec": {
   "display_name": "Python 3 (ipykernel)",
   "language": "python",
   "name": "python3"
  },
  "language_info": {
   "codemirror_mode": {
    "name": "ipython",
    "version": 3
   },
   "file_extension": ".py",
   "mimetype": "text/x-python",
   "name": "python",
   "nbconvert_exporter": "python",
   "pygments_lexer": "ipython3",
   "version": "3.9.12"
  }
 },
 "nbformat": 4,
 "nbformat_minor": 5
}
