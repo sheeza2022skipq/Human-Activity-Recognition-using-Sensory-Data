{
 "cells": [
  {
   "cell_type": "code",
   "execution_count": 1,
   "id": "d044025a",
   "metadata": {},
   "outputs": [],
   "source": [
    "import numpy as np\n",
    "import cv2\n",
    "from sklearn.mixture import GaussianMixture\n",
    "from matplotlib import pyplot\n",
    "from sklearn.model_selection import train_test_split\n",
    "from sklearn.svm import SVC"
   ]
  },
  {
   "cell_type": "markdown",
   "id": "a3c03de6",
   "metadata": {},
   "source": [
    "# 1. Load Accelerometer Data \n",
    "##  Dataset is a vector of 151 accelerometer values for each axis. "
   ]
  },
  {
   "cell_type": "code",
   "execution_count": 2,
   "id": "0a46fd29",
   "metadata": {},
   "outputs": [],
   "source": [
    "data =np.load(\"dataset/acc_data.npy\")"
   ]
  },
  {
   "cell_type": "code",
   "execution_count": 3,
   "id": "451fb630",
   "metadata": {},
   "outputs": [],
   "source": [
    "x_axis_data = data[:,:151]"
   ]
  },
  {
   "cell_type": "code",
   "execution_count": 4,
   "id": "590ea5b3",
   "metadata": {},
   "outputs": [
    {
     "data": {
      "text/plain": [
       "(11771, 151)"
      ]
     },
     "execution_count": 4,
     "metadata": {},
     "output_type": "execute_result"
    }
   ],
   "source": [
    "x_axis_data.shape"
   ]
  },
  {
   "cell_type": "code",
   "execution_count": 5,
   "id": "990baff2",
   "metadata": {},
   "outputs": [],
   "source": [
    "y_axis_data = data[:,151:302]"
   ]
  },
  {
   "cell_type": "code",
   "execution_count": 6,
   "id": "61e2d493",
   "metadata": {},
   "outputs": [
    {
     "data": {
      "text/plain": [
       "(11771, 151)"
      ]
     },
     "execution_count": 6,
     "metadata": {},
     "output_type": "execute_result"
    }
   ],
   "source": [
    "y_axis_data.shape"
   ]
  },
  {
   "cell_type": "code",
   "execution_count": 7,
   "id": "6952316d",
   "metadata": {},
   "outputs": [],
   "source": [
    "z_axis_data = data[:,302:453]"
   ]
  },
  {
   "cell_type": "code",
   "execution_count": 8,
   "id": "3ba2c518",
   "metadata": {},
   "outputs": [
    {
     "data": {
      "text/plain": [
       "(11771, 151)"
      ]
     },
     "execution_count": 8,
     "metadata": {},
     "output_type": "execute_result"
    }
   ],
   "source": [
    "z_axis_data.shape"
   ]
  },
  {
   "cell_type": "markdown",
   "id": "9fb0fb0f",
   "metadata": {},
   "source": [
    "## Data labels contain 3 columns, we use only first column to classify human activities"
   ]
  },
  {
   "cell_type": "code",
   "execution_count": 9,
   "id": "322f849d",
   "metadata": {},
   "outputs": [],
   "source": [
    "Labels =np.load(\"dataset/acc_labels.npy\")"
   ]
  },
  {
   "cell_type": "code",
   "execution_count": 10,
   "id": "084d73fa",
   "metadata": {},
   "outputs": [
    {
     "data": {
      "text/plain": [
       "array([[ 1,  1,  1],\n",
       "       [ 1,  1,  1],\n",
       "       [ 1,  1,  1],\n",
       "       ...,\n",
       "       [17, 30,  6],\n",
       "       [17, 30,  6],\n",
       "       [17, 30,  6]], dtype=uint8)"
      ]
     },
     "execution_count": 10,
     "metadata": {},
     "output_type": "execute_result"
    }
   ],
   "source": [
    "Labels"
   ]
  },
  {
   "cell_type": "code",
   "execution_count": 11,
   "id": "bc021ed4",
   "metadata": {},
   "outputs": [],
   "source": [
    "hum_act_labels = Labels[:,0]"
   ]
  },
  {
   "cell_type": "code",
   "execution_count": 12,
   "id": "6850b4db",
   "metadata": {},
   "outputs": [
    {
     "data": {
      "text/plain": [
       "array([ 1,  1,  1, ..., 17, 17, 17], dtype=uint8)"
      ]
     },
     "execution_count": 12,
     "metadata": {},
     "output_type": "execute_result"
    }
   ],
   "source": [
    "hum_act_labels"
   ]
  },
  {
   "cell_type": "markdown",
   "id": "6a099578",
   "metadata": {},
   "source": [
    "## Class names"
   ]
  },
  {
   "cell_type": "code",
   "execution_count": 13,
   "id": "a9011b13",
   "metadata": {},
   "outputs": [],
   "source": [
    "names =np.load(\"dataset/acc_names.npy\",allow_pickle=True)"
   ]
  },
  {
   "cell_type": "code",
   "execution_count": 14,
   "id": "809219ef",
   "metadata": {},
   "outputs": [
    {
     "data": {
      "text/plain": [
       "array([[array(['Standing up from sitting'], dtype='<U24'),\n",
       "        array(['Standing up from laying'], dtype='<U23'),\n",
       "        array(['Walking'], dtype='<U7'), array(['Running'], dtype='<U7'),\n",
       "        array(['Going upstairs'], dtype='<U14'),\n",
       "        array(['Jumping'], dtype='<U7'),\n",
       "        array(['Going downstairs'], dtype='<U16'),\n",
       "        array(['Lying down from standing'], dtype='<U24'),\n",
       "        array(['Sitting down'], dtype='<U12'),\n",
       "        array(['Generic falling forward'], dtype='<U23'),\n",
       "        array(['Falling rightward'], dtype='<U17'),\n",
       "        array(['Generic falling backward'], dtype='<U24'),\n",
       "        array(['Hitting an obstacle in the fall'], dtype='<U31'),\n",
       "        array(['Falling with protection strategies'], dtype='<U34'),\n",
       "        array(['Falling backward-sitting-chair'], dtype='<U30'),\n",
       "        array(['Syncope'], dtype='<U7'),\n",
       "        array(['Falling leftward'], dtype='<U16')],\n",
       "       [array(['StandingUpFS'], dtype='<U12'),\n",
       "        array(['StandingUpFL'], dtype='<U12'),\n",
       "        array(['Walking'], dtype='<U7'), array(['Running'], dtype='<U7'),\n",
       "        array(['GoingUpS'], dtype='<U8'),\n",
       "        array(['Jumping'], dtype='<U7'),\n",
       "        array(['GoingDownS'], dtype='<U10'),\n",
       "        array(['LyingDownFS'], dtype='<U11'),\n",
       "        array(['SittingDown'], dtype='<U11'),\n",
       "        array(['FallingForw'], dtype='<U11'),\n",
       "        array(['FallingRight'], dtype='<U12'),\n",
       "        array(['FallingBack'], dtype='<U11'),\n",
       "        array(['HittingObstacle'], dtype='<U15'),\n",
       "        array(['FallingWithPS'], dtype='<U13'),\n",
       "        array(['FallingBackSC'], dtype='<U13'),\n",
       "        array(['Syncope'], dtype='<U7'),\n",
       "        array(['FallingLeft'], dtype='<U11')]], dtype=object)"
      ]
     },
     "execution_count": 14,
     "metadata": {},
     "output_type": "execute_result"
    }
   ],
   "source": [
    "names"
   ]
  },
  {
   "cell_type": "code",
   "execution_count": 15,
   "id": "0bc12de3",
   "metadata": {},
   "outputs": [
    {
     "data": {
      "text/plain": [
       "(2, 17)"
      ]
     },
     "execution_count": 15,
     "metadata": {},
     "output_type": "execute_result"
    }
   ],
   "source": [
    "names.shape"
   ]
  },
  {
   "cell_type": "code",
   "execution_count": 16,
   "id": "6a3885a9",
   "metadata": {},
   "outputs": [],
   "source": [
    "class_names = names[0:1,:]"
   ]
  },
  {
   "cell_type": "code",
   "execution_count": 17,
   "id": "547b2cbb",
   "metadata": {},
   "outputs": [
    {
     "data": {
      "text/plain": [
       "array([[array(['Standing up from sitting'], dtype='<U24'),\n",
       "        array(['Standing up from laying'], dtype='<U23'),\n",
       "        array(['Walking'], dtype='<U7'), array(['Running'], dtype='<U7'),\n",
       "        array(['Going upstairs'], dtype='<U14'),\n",
       "        array(['Jumping'], dtype='<U7'),\n",
       "        array(['Going downstairs'], dtype='<U16'),\n",
       "        array(['Lying down from standing'], dtype='<U24'),\n",
       "        array(['Sitting down'], dtype='<U12'),\n",
       "        array(['Generic falling forward'], dtype='<U23'),\n",
       "        array(['Falling rightward'], dtype='<U17'),\n",
       "        array(['Generic falling backward'], dtype='<U24'),\n",
       "        array(['Hitting an obstacle in the fall'], dtype='<U31'),\n",
       "        array(['Falling with protection strategies'], dtype='<U34'),\n",
       "        array(['Falling backward-sitting-chair'], dtype='<U30'),\n",
       "        array(['Syncope'], dtype='<U7'),\n",
       "        array(['Falling leftward'], dtype='<U16')]], dtype=object)"
      ]
     },
     "execution_count": 17,
     "metadata": {},
     "output_type": "execute_result"
    }
   ],
   "source": [
    "class_names"
   ]
  },
  {
   "cell_type": "code",
   "execution_count": 18,
   "id": "6defb006",
   "metadata": {},
   "outputs": [
    {
     "data": {
      "text/plain": [
       "(1, 17)"
      ]
     },
     "execution_count": 18,
     "metadata": {},
     "output_type": "execute_result"
    }
   ],
   "source": [
    "class_names.shape"
   ]
  },
  {
   "cell_type": "markdown",
   "id": "8419d2b0",
   "metadata": {},
   "source": [
    "# VLAD Feature Encoding Technique"
   ]
  },
  {
   "cell_type": "code",
   "execution_count": 19,
   "id": "433bff55",
   "metadata": {},
   "outputs": [],
   "source": [
    "def sliding_window(data):\n",
    "    window_size = 40\n",
    "    stride = 10\n",
    "    return np.lib.stride_tricks.sliding_window_view(data,window_size)[::stride,:]"
   ]
  },
  {
   "cell_type": "code",
   "execution_count": 20,
   "id": "6c52843c",
   "metadata": {},
   "outputs": [],
   "source": [
    "def GMM(data):\n",
    "    gmm = GaussianMixture(n_components=12, covariance_type='spherical').fit(data)\n",
    "    return gmm.means_"
   ]
  },
  {
   "cell_type": "code",
   "execution_count": 21,
   "id": "95cc45dc",
   "metadata": {},
   "outputs": [],
   "source": [
    "def find_NearestNeighbour(localdes,neighborhood):\n",
    "    \"\"\"\n",
    "    Finds the nearest neighborhood of a vector.\n",
    "    Args:\n",
    "        point (float array): The initial point.\n",
    "        neighborhood (numpy float matrix): The points that are around the initial point.\n",
    "    Returns:\n",
    "        float array: The point that is the nearest neighbor of the initial point.\n",
    "        integer: Index of the nearest neighbor inside the neighborhood list\n",
    "    \"\"\"\n",
    "    min_distance = float('inf')\n",
    "    NearestNeighbour = neighborhood[0]\n",
    "    NearestN_index = 0\n",
    "    for i in range(len(neighborhood)):\n",
    "        neighbor = neighborhood[i]\n",
    "        distance = cv2.norm(localdes - neighbor)\n",
    "        if distance < min_distance:\n",
    "            min_distance = distance\n",
    "            NearestNeighbour = neighbor\n",
    "            NearestN_index = i \n",
    "    return NearestNeighbour, NearestN_index          "
   ]
  },
  {
   "cell_type": "code",
   "execution_count": 22,
   "id": "d39e0e15",
   "metadata": {},
   "outputs": [],
   "source": [
    "def vlad (localdescriptors, centers):\n",
    "    \"\"\"\n",
    "    Calculate the Vector of Locally Aggregated Descriptors (VLAD) which is a global descriptor from a group of\n",
    "    descriptors and centers that are codewords of a codebook, obtained for example with K-Means.\n",
    "    Args:\n",
    "        descriptors (numpy float matrix): The local descriptors.\n",
    "        centers (numpy float matrix): The centers are points representatives of the classes.\n",
    "    Returns:\n",
    "        numpy float array: The VLAD vector.\n",
    "    \"\"\"    \n",
    "        \n",
    "    dimensions = len(localdescriptors[0])\n",
    "    vlad_vector = np.zeros((len(centers), dimensions), dtype=np.float32)\n",
    "    for localdescriptors in localdescriptors:\n",
    "        nearest_center, center_index = find_NearestNeighbour(localdescriptors,centers)\n",
    "        for i in range(dimensions):\n",
    "            vlad_vector[center_index][i] += (localdescriptors[i] - nearest_center[i])\n",
    "    # L2 Normalization            \n",
    "    vlad_vector = cv2.normalize(vlad_vector,vlad_vector)\n",
    "    vlad_vector = vlad_vector.flatten()\n",
    "    return vlad_vector   \n",
    "        "
   ]
  },
  {
   "cell_type": "code",
   "execution_count": 23,
   "id": "ddcd6ec8",
   "metadata": {},
   "outputs": [
    {
     "data": {
      "text/plain": [
       "(12, 40)"
      ]
     },
     "execution_count": 23,
     "metadata": {},
     "output_type": "execute_result"
    }
   ],
   "source": [
    "    #sliding window in every row\n",
    "slide_vec = sliding_window(x_axis_data[0])\n",
    "    #GMM in slide_vec shape 12X30\n",
    "slide_vec.shape"
   ]
  },
  {
   "cell_type": "markdown",
   "id": "6d35a171",
   "metadata": {},
   "source": [
    "## X_axis "
   ]
  },
  {
   "cell_type": "code",
   "execution_count": 24,
   "id": "55ec69b3",
   "metadata": {},
   "outputs": [],
   "source": [
    "xfeaturevector = np.zeros((11771,480))\n",
    "for i in range(x_axis_data.shape[0]):\n",
    "    #sliding window in every row\n",
    "    slide_vec = sliding_window(x_axis_data[i])\n",
    "    #GMM in slide_vec shape 12X30\n",
    "    codebook = GMM(slide_vec)\n",
    "    #vlad implement retirn 480 dimensions\n",
    "    v = vlad(slide_vec,codebook) \n",
    "    xfeaturevector[i] = v\n"
   ]
  },
  {
   "cell_type": "markdown",
   "id": "669fb14b",
   "metadata": {},
   "source": [
    "## K*D dimensions, K=12,D=40, and K*D=480"
   ]
  },
  {
   "cell_type": "code",
   "execution_count": 25,
   "id": "9ada003f",
   "metadata": {},
   "outputs": [
    {
     "data": {
      "text/plain": [
       "(11771, 480)"
      ]
     },
     "execution_count": 25,
     "metadata": {},
     "output_type": "execute_result"
    }
   ],
   "source": [
    "xfeaturevector.shape"
   ]
  },
  {
   "cell_type": "code",
   "execution_count": 26,
   "id": "cc1c1fce",
   "metadata": {},
   "outputs": [
    {
     "data": {
      "text/plain": [
       "array([[ 0.07585517,  0.07186279,  0.07186279, ..., -0.00174667,\n",
       "         0.00112286,  0.00212095],\n",
       "       [ 0.00038771,  0.00031722,  0.00211479, ...,  0.00310169,\n",
       "         0.00281972,  0.00239676],\n",
       "       [ 0.10025028,  0.10025028,  0.10025028, ...,  0.0087719 ,\n",
       "         0.01002503,  0.01002503],\n",
       "       ...,\n",
       "       [ 0.01267231,  0.01267231,  0.01267231, ...,  0.02995272,\n",
       "         0.03456083,  0.03916894],\n",
       "       [ 0.02744669,  0.02973392,  0.02973392, ...,  0.02515947,\n",
       "         0.02287225,  0.02515947],\n",
       "       [-0.05946103, -0.01600874,  0.04116533, ...,  0.02286963,\n",
       "         0.02286963,  0.02286963]])"
      ]
     },
     "execution_count": 26,
     "metadata": {},
     "output_type": "execute_result"
    }
   ],
   "source": [
    "xfeaturevector"
   ]
  },
  {
   "cell_type": "markdown",
   "id": "13c5b5b3",
   "metadata": {},
   "source": [
    "## Y_axis "
   ]
  },
  {
   "cell_type": "code",
   "execution_count": 27,
   "id": "c42975d8",
   "metadata": {},
   "outputs": [],
   "source": [
    "yfeaturevector = np.zeros((11771,480))\n",
    "for i in range(y_axis_data.shape[0]):\n",
    "    #sliding window in every row\n",
    "    slide_vec = sliding_window(y_axis_data[i])\n",
    "    #GMM in slide_vec shape 12X30\n",
    "    codebook = GMM(slide_vec)\n",
    "    #vlad implement retirn 480 dimensions\n",
    "    v = vlad(slide_vec,codebook) \n",
    "    yfeaturevector[i] = v\n"
   ]
  },
  {
   "cell_type": "markdown",
   "id": "c4d6afd3",
   "metadata": {},
   "source": [
    "## K*D dimensions, K=12,D=40, and K*D=480"
   ]
  },
  {
   "cell_type": "code",
   "execution_count": 28,
   "id": "6e73de56",
   "metadata": {},
   "outputs": [
    {
     "data": {
      "text/plain": [
       "(11771, 480)"
      ]
     },
     "execution_count": 28,
     "metadata": {},
     "output_type": "execute_result"
    }
   ],
   "source": [
    "yfeaturevector.shape"
   ]
  },
  {
   "cell_type": "code",
   "execution_count": 29,
   "id": "654ce278",
   "metadata": {},
   "outputs": [
    {
     "data": {
      "text/plain": [
       "array([[ 0.05162067,  0.0607302 ,  0.06680322, ...,  0.04554765,\n",
       "         0.04554765,  0.04858416],\n",
       "       [ 0.0220235 ,  0.01908704,  0.0176188 , ...,  0.04991994,\n",
       "         0.04991994,  0.04991994],\n",
       "       [ 0.02451349,  0.01685302,  0.0114907 , ...,  0.04596279,\n",
       "         0.0428986 ,  0.0428986 ],\n",
       "       ...,\n",
       "       [-0.07388702, -0.12503958, -0.13640681, ..., -0.01349859,\n",
       "        -0.01349859, -0.01420904],\n",
       "       [-0.00721167, -0.00600972, -0.00881426, ..., -0.01522463,\n",
       "        -0.01522463, -0.01522463],\n",
       "       [ 0.05010617,  0.05344658,  0.05344658, ..., -0.01586695,\n",
       "        -0.01503185, -0.01586695]])"
      ]
     },
     "execution_count": 29,
     "metadata": {},
     "output_type": "execute_result"
    }
   ],
   "source": [
    "yfeaturevector"
   ]
  },
  {
   "cell_type": "markdown",
   "id": "45caa0c0",
   "metadata": {},
   "source": [
    "## Z_axis "
   ]
  },
  {
   "cell_type": "code",
   "execution_count": 30,
   "id": "0ecb44ba",
   "metadata": {},
   "outputs": [],
   "source": [
    "zfeaturevector =np.zeros((11771,480))\n",
    "for i in range(z_axis_data.shape[0]):\n",
    "    #sliding window in every row\n",
    "    slide_vec = sliding_window(z_axis_data[i])\n",
    "    #GMM in slide_vec shape 12X30\n",
    "    codebook = GMM(slide_vec)\n",
    "    #vlad implement retirn 480 dimensions\n",
    "    v = vlad(slide_vec,codebook) \n",
    "    zfeaturevector[i] = v\n"
   ]
  },
  {
   "cell_type": "markdown",
   "id": "39059138",
   "metadata": {},
   "source": [
    "## K*D dimensions, K=12,D=40, and K*D=480"
   ]
  },
  {
   "cell_type": "code",
   "execution_count": 31,
   "id": "2b103aa3",
   "metadata": {},
   "outputs": [
    {
     "data": {
      "text/plain": [
       "(11771, 480)"
      ]
     },
     "execution_count": 31,
     "metadata": {},
     "output_type": "execute_result"
    }
   ],
   "source": [
    "zfeaturevector.shape"
   ]
  },
  {
   "cell_type": "code",
   "execution_count": 32,
   "id": "69a30f95",
   "metadata": {},
   "outputs": [
    {
     "data": {
      "text/plain": [
       "array([[-0.00537203, -0.01074406, -0.01487639, ..., -0.05619968,\n",
       "        -0.05289382, -0.05289382],\n",
       "       [-0.0464424 , -0.04953856, -0.0464424 , ..., -0.0464424 ,\n",
       "        -0.0464424 , -0.0464424 ],\n",
       "       [-0.04878874, -0.05165866, -0.05165866, ..., -0.05165866,\n",
       "        -0.04878874, -0.04878874],\n",
       "       ...,\n",
       "       [ 0.06616841,  0.06616841,  0.07125829, ...,  0.00636235,\n",
       "         0.00827105,  0.00636235],\n",
       "       [ 0.05536107,  0.05536107,  0.05536107, ...,  0.00245088,\n",
       "         0.00216254,  0.00216254],\n",
       "       [-0.00111981,  0.07614684,  0.10750142, ...,  0.05375071,\n",
       "         0.05375071,  0.05375071]])"
      ]
     },
     "execution_count": 32,
     "metadata": {},
     "output_type": "execute_result"
    }
   ],
   "source": [
    "zfeaturevector"
   ]
  },
  {
   "cell_type": "markdown",
   "id": "75e8cd91",
   "metadata": {},
   "source": [
    "# CONCATENATE AXIS"
   ]
  },
  {
   "cell_type": "code",
   "execution_count": 33,
   "id": "5c95563a",
   "metadata": {},
   "outputs": [
    {
     "data": {
      "text/plain": [
       "(11771, 1440)"
      ]
     },
     "execution_count": 33,
     "metadata": {},
     "output_type": "execute_result"
    }
   ],
   "source": [
    "final_feature_vector = np.concatenate((xfeaturevector,yfeaturevector,zfeaturevector),axis=1)\n",
    "final_feature_vector.shape"
   ]
  },
  {
   "cell_type": "code",
   "execution_count": 34,
   "id": "b5647437",
   "metadata": {},
   "outputs": [
    {
     "data": {
      "image/png": "[encoded data removed]",
      "text/plain": [
       "<Figure size 432x288 with 1 Axes>"
      ]
     },
     "metadata": {
      "needs_background": "light"
     },
     "output_type": "display_data"
    }
   ],
   "source": [
    "pyplot.hist(final_feature_vector,bins = 9,density = True)\n",
    "pyplot.show()"
   ]
  },
  {
   "cell_type": "markdown",
   "id": "6e4bad62",
   "metadata": {},
   "source": [
    "# Data splitting"
   ]
  },
  {
   "cell_type": "code",
   "execution_count": 46,
   "id": "08e99e23",
   "metadata": {},
   "outputs": [
    {
     "name": "stdout",
     "output_type": "stream",
     "text": [
      "Labels for training and testing data\n",
      "9416\n",
      "2355\n"
     ]
    }
   ],
   "source": [
    "train_data, test_data, train_labels, test_labels = train_test_split(final_feature_vector, hum_act_labels, \n",
    "                                                    train_size=0.8,\n",
    "                                                    test_size=0.2,\n",
    "                                                    random_state=0)\n",
    "print(\"Labels for training and testing data\")\n",
    "print(len(train_data))\n",
    "print(len(test_data))"
   ]
  },
  {
   "cell_type": "code",
   "execution_count": 47,
   "id": "ee06b9b2",
   "metadata": {},
   "outputs": [
    {
     "name": "stdout",
     "output_type": "stream",
     "text": [
      "9416\n",
      "2355\n"
     ]
    }
   ],
   "source": [
    "print(len(train_labels))\n",
    "print(len(test_labels))"
   ]
  },
  {
   "cell_type": "code",
   "execution_count": 48,
   "id": "4a04dcab",
   "metadata": {},
   "outputs": [
    {
     "name": "stdout",
     "output_type": "stream",
     "text": [
      "[ 1  2  3  4  5  6  7  8  9 10 11 12 13 14 15 16 17]\n"
     ]
    }
   ],
   "source": [
    "labels = np.unique(train_labels)\n",
    "print(labels) "
   ]
  },
  {
   "cell_type": "code",
   "execution_count": 49,
   "id": "da850e25",
   "metadata": {},
   "outputs": [],
   "source": [
    "model = SVC(kernel='linear')"
   ]
  },
  {
   "cell_type": "code",
   "execution_count": 50,
   "id": "751561ad",
   "metadata": {},
   "outputs": [
    {
     "data": {
      "text/plain": [
       "SVC(kernel='linear')"
      ]
     },
     "execution_count": 50,
     "metadata": {},
     "output_type": "execute_result"
    }
   ],
   "source": [
    "model.fit(train_data, train_labels)"
   ]
  },
  {
   "cell_type": "code",
   "execution_count": 51,
   "id": "b54e9127",
   "metadata": {},
   "outputs": [
    {
     "name": "stdout",
     "output_type": "stream",
     "text": [
      "[ 5 10 14 ... 10  7  4]\n",
      "[ 5 10 17 ... 11 17  4]\n"
     ]
    }
   ],
   "source": [
    "predictionstrain = model.predict(train_data)\n",
    "print(predictionstrain)\n",
    "print(train_labels)"
   ]
  },
  {
   "cell_type": "code",
   "execution_count": 52,
   "id": "2629ea10",
   "metadata": {},
   "outputs": [],
   "source": [
    "percentage_train = model.score(train_data, train_labels)"
   ]
  },
  {
   "cell_type": "code",
   "execution_count": 53,
   "id": "8aef24e9",
   "metadata": {},
   "outputs": [
    {
     "name": "stdout",
     "output_type": "stream",
     "text": [
      "[14 11  3 ...  3 15 10]\n",
      "[14 12  3 ...  1 15  5]\n"
     ]
    }
   ],
   "source": [
    "predictionstest = model.predict(test_data)\n",
    "print(predictionstest)\n",
    "print(test_labels)"
   ]
  },
  {
   "cell_type": "code",
   "execution_count": 54,
   "id": "d0e793c8",
   "metadata": {},
   "outputs": [],
   "source": [
    "percentage_test = model.score(test_data, test_labels)"
   ]
  },
  {
   "cell_type": "code",
   "execution_count": 55,
   "id": "5dc896de",
   "metadata": {},
   "outputs": [
    {
     "name": "stdout",
     "output_type": "stream",
     "text": [
      "Confusion Matrix\n",
      "[[  5   3   3   4   0   0   5   0   1   0   1   2   0   1   2   0   0]\n",
      " [  0  14   6   3   2   0  13   0   1   0   0   1   1   2   2   1   0]\n",
      " [  0   0 186  92  10   3  29   0   0   1   2   2   1   0   2   0   0]\n",
      " [  0   0 107 240   9   7  44   0   0   1   0   1   1   0   0   0   0]\n",
      " [  1   1  65  42  30   4  35   0   0   6   0   0   3   0   3   0   1]\n",
      " [  2   0  38  37  11  14  17   0   0   1   1   0   1   1   1   1   0]\n",
      " [  0   1  68 104   9   4  69   0   0   0   0   2   0   1   1   0   0]\n",
      " [  1   5   8   9   5   3   6   6   2   2   2   2   1   0   4   3   0]\n",
      " [  1   2   6   3   5   0   5   6   4   1   1   1   1   0   6   1   1]\n",
      " [  0   0   7   3   6   2   2   1   0  48  11   2   3  24   2   3   1]\n",
      " [  2   0  16  10   3   5   4   1   0  14  26   3   2   7   4   8   2]\n",
      " [  1   1  12   6   7   4   8   2   1  10   8  26   1   2  13   8   5]\n",
      " [  1   0  14  11   6   3   1   1   2   4   3   9  43   5   1   6   2]\n",
      " [  0   0   4   6   6   3   1   2   1  27   5   2   2  35   5   1   2]\n",
      " [  1   4   5   6   7   3   7   7   2   4   7   6   2   0  27   5   3]\n",
      " [  0   1   8   4   4   5  13   5   2  10  12   3   3   3   3  18   8]\n",
      " [  0   0  14   7   3   3   6   2   2  11   5   9   2  10   5   8  30]]\n",
      "Test Set: 2355\n",
      "Training Accuracy = 54.938402718776544 %\n",
      "Testing Accuracy = 34.8619957537155 %\n"
     ]
    }
   ],
   "source": [
    "from sklearn.metrics import confusion_matrix\n",
    "res = confusion_matrix(test_labels, predictionstest)\n",
    "print(\"Confusion Matrix\")\n",
    "print(res)\n",
    "print(f\"Test Set: {len(test_data)}\")\n",
    "print(f\"Training Accuracy = {percentage_train*100} %\")\n",
    "print(f\"Testing Accuracy = {percentage_test*100} %\")"
   ]
  },
  {
   "cell_type": "code",
   "execution_count": null,
   "id": "68df90c1",
   "metadata": {},
   "outputs": [],
   "source": []
  }
 ],
 "metadata": {
  "kernelspec": {
   "display_name": "Python 3 (ipykernel)",
   "language": "python",
   "name": "python3"
  },
  "language_info": {
   "codemirror_mode": {
    "name": "ipython",
    "version": 3
   },
   "file_extension": ".py",
   "mimetype": "text/x-python",
   "name": "python",
   "nbconvert_exporter": "python",
   "pygments_lexer": "ipython3",
   "version": "3.9.12"
  }
 },
 "nbformat": 4,
 "nbformat_minor": 5
}
